{
 "cells": [
  {
   "cell_type": "markdown",
   "id": "95105206",
   "metadata": {
    "papermill": {
     "duration": 0.013842,
     "end_time": "2021-10-31T15:33:09.813704",
     "exception": false,
     "start_time": "2021-10-31T15:33:09.799862",
     "status": "completed"
    },
    "tags": []
   },
   "source": [
    "### CIFAR10 Submission Notebook\n",
    "### Megan Nichols"
   ]
  },
  {
   "cell_type": "code",
   "execution_count": 1,
   "id": "f20ec056",
   "metadata": {
    "_cell_guid": "b1076dfc-b9ad-4769-8c92-a6c4dae69d19",
    "_uuid": "8f2839f25d086af736a60e9eeb907d3b93b6e0e5",
    "execution": {
     "iopub.execute_input": "2021-10-31T15:33:09.838775Z",
     "iopub.status.busy": "2021-10-31T15:33:09.837655Z",
     "iopub.status.idle": "2021-10-31T15:33:15.463903Z",
     "shell.execute_reply": "2021-10-31T15:33:15.463208Z",
     "shell.execute_reply.started": "2021-10-31T15:21:24.992757Z"
    },
    "papermill": {
     "duration": 5.639683,
     "end_time": "2021-10-31T15:33:15.464065",
     "exception": false,
     "start_time": "2021-10-31T15:33:09.824382",
     "status": "completed"
    },
    "tags": []
   },
   "outputs": [],
   "source": [
    "import os\n",
    "import numpy as np\n",
    "import pandas as pd\n",
    "import matplotlib.pyplot as plt\n",
    "\n",
    "from tensorflow import keras\n",
    "from tensorflow.keras.preprocessing.image import ImageDataGenerator"
   ]
  },
  {
   "cell_type": "markdown",
   "id": "e7001382",
   "metadata": {
    "papermill": {
     "duration": 0.010832,
     "end_time": "2021-10-31T15:33:15.486368",
     "exception": false,
     "start_time": "2021-10-31T15:33:15.475536",
     "status": "completed"
    },
    "tags": []
   },
   "source": [
    "#### Import data"
   ]
  },
  {
   "cell_type": "code",
   "execution_count": 2,
   "id": "f5a6ce91",
   "metadata": {
    "execution": {
     "iopub.execute_input": "2021-10-31T15:33:15.510737Z",
     "iopub.status.busy": "2021-10-31T15:33:15.509946Z",
     "iopub.status.idle": "2021-10-31T15:33:15.536681Z",
     "shell.execute_reply": "2021-10-31T15:33:15.536154Z",
     "shell.execute_reply.started": "2021-10-31T15:21:32.254593Z"
    },
    "papermill": {
     "duration": 0.040096,
     "end_time": "2021-10-31T15:33:15.536835",
     "exception": false,
     "start_time": "2021-10-31T15:33:15.496739",
     "status": "completed"
    },
    "tags": []
   },
   "outputs": [
    {
     "data": {
      "text/plain": [
       "(10000, 2)"
      ]
     },
     "execution_count": 2,
     "metadata": {},
     "output_type": "execute_result"
    }
   ],
   "source": [
    "test = pd.read_csv('../input/cifar10-mu/sample_submission.csv', dtype = str)\n",
    "test.shape"
   ]
  },
  {
   "cell_type": "code",
   "execution_count": 3,
   "id": "82959523",
   "metadata": {
    "execution": {
     "iopub.execute_input": "2021-10-31T15:33:15.562969Z",
     "iopub.status.busy": "2021-10-31T15:33:15.562025Z",
     "iopub.status.idle": "2021-10-31T15:33:15.576805Z",
     "shell.execute_reply": "2021-10-31T15:33:15.577343Z",
     "shell.execute_reply.started": "2021-10-31T15:21:42.527470Z"
    },
    "papermill": {
     "duration": 0.02959,
     "end_time": "2021-10-31T15:33:15.577530",
     "exception": false,
     "start_time": "2021-10-31T15:33:15.547940",
     "status": "completed"
    },
    "tags": []
   },
   "outputs": [
    {
     "data": {
      "text/html": [
       "<div>\n",
       "<style scoped>\n",
       "    .dataframe tbody tr th:only-of-type {\n",
       "        vertical-align: middle;\n",
       "    }\n",
       "\n",
       "    .dataframe tbody tr th {\n",
       "        vertical-align: top;\n",
       "    }\n",
       "\n",
       "    .dataframe thead th {\n",
       "        text-align: right;\n",
       "    }\n",
       "</style>\n",
       "<table border=\"1\" class=\"dataframe\">\n",
       "  <thead>\n",
       "    <tr style=\"text-align: right;\">\n",
       "      <th></th>\n",
       "      <th>filename</th>\n",
       "      <th>label</th>\n",
       "    </tr>\n",
       "  </thead>\n",
       "  <tbody>\n",
       "    <tr>\n",
       "      <th>0</th>\n",
       "      <td>test_00001.png</td>\n",
       "      <td>0</td>\n",
       "    </tr>\n",
       "    <tr>\n",
       "      <th>1</th>\n",
       "      <td>test_00002.png</td>\n",
       "      <td>0</td>\n",
       "    </tr>\n",
       "    <tr>\n",
       "      <th>2</th>\n",
       "      <td>test_00003.png</td>\n",
       "      <td>0</td>\n",
       "    </tr>\n",
       "    <tr>\n",
       "      <th>3</th>\n",
       "      <td>test_00004.png</td>\n",
       "      <td>0</td>\n",
       "    </tr>\n",
       "    <tr>\n",
       "      <th>4</th>\n",
       "      <td>test_00005.png</td>\n",
       "      <td>0</td>\n",
       "    </tr>\n",
       "  </tbody>\n",
       "</table>\n",
       "</div>"
      ],
      "text/plain": [
       "         filename label\n",
       "0  test_00001.png     0\n",
       "1  test_00002.png     0\n",
       "2  test_00003.png     0\n",
       "3  test_00004.png     0\n",
       "4  test_00005.png     0"
      ]
     },
     "execution_count": 3,
     "metadata": {},
     "output_type": "execute_result"
    }
   ],
   "source": [
    "test.head()"
   ]
  },
  {
   "cell_type": "code",
   "execution_count": 4,
   "id": "8113fed1",
   "metadata": {
    "execution": {
     "iopub.execute_input": "2021-10-31T15:33:15.603325Z",
     "iopub.status.busy": "2021-10-31T15:33:15.602375Z",
     "iopub.status.idle": "2021-10-31T15:33:15.971087Z",
     "shell.execute_reply": "2021-10-31T15:33:15.971870Z",
     "shell.execute_reply.started": "2021-10-31T15:22:38.635340Z"
    },
    "papermill": {
     "duration": 0.383346,
     "end_time": "2021-10-31T15:33:15.972091",
     "exception": false,
     "start_time": "2021-10-31T15:33:15.588745",
     "status": "completed"
    },
    "tags": []
   },
   "outputs": [
    {
     "name": "stdout",
     "output_type": "stream",
     "text": [
      "10000\n"
     ]
    }
   ],
   "source": [
    "test_path = ('../input/cifar10-mu/test_images')\n",
    "print(len(os.listdir(test_path)))"
   ]
  },
  {
   "cell_type": "markdown",
   "id": "402a7b9c",
   "metadata": {
    "papermill": {
     "duration": 0.011178,
     "end_time": "2021-10-31T15:33:15.995760",
     "exception": false,
     "start_time": "2021-10-31T15:33:15.984582",
     "status": "completed"
    },
    "tags": []
   },
   "source": [
    "#### Build Data Generator"
   ]
  },
  {
   "cell_type": "code",
   "execution_count": 5,
   "id": "f4f5b70d",
   "metadata": {
    "execution": {
     "iopub.execute_input": "2021-10-31T15:33:16.022472Z",
     "iopub.status.busy": "2021-10-31T15:33:16.021518Z",
     "iopub.status.idle": "2021-10-31T15:33:31.362946Z",
     "shell.execute_reply": "2021-10-31T15:33:31.363548Z",
     "shell.execute_reply.started": "2021-10-31T15:23:33.653306Z"
    },
    "papermill": {
     "duration": 15.356357,
     "end_time": "2021-10-31T15:33:31.363741",
     "exception": false,
     "start_time": "2021-10-31T15:33:16.007384",
     "status": "completed"
    },
    "tags": []
   },
   "outputs": [
    {
     "name": "stdout",
     "output_type": "stream",
     "text": [
      "Found 10000 validated image filenames.\n"
     ]
    }
   ],
   "source": [
    "BATCH_SIZE = 64\n",
    "\n",
    "test_datagen = ImageDataGenerator(rescale = 1/255)\n",
    "\n",
    "test_loader = test_datagen.flow_from_dataframe(dataframe = test,\n",
    "                                              directory = test_path,\n",
    "                                              x_col = 'filename',\n",
    "                                              batch_size = BATCH_SIZE,\n",
    "                                              shuffle = False,\n",
    "                                              class_mode = None,\n",
    "                                              target_size = (32, 32))"
   ]
  },
  {
   "cell_type": "markdown",
   "id": "f1577119",
   "metadata": {
    "papermill": {
     "duration": 0.01149,
     "end_time": "2021-10-31T15:33:31.387480",
     "exception": false,
     "start_time": "2021-10-31T15:33:31.375990",
     "status": "completed"
    },
    "tags": []
   },
   "source": [
    "#### Load Model"
   ]
  },
  {
   "cell_type": "code",
   "execution_count": 6,
   "id": "493ea99c",
   "metadata": {
    "execution": {
     "iopub.execute_input": "2021-10-31T15:33:31.414890Z",
     "iopub.status.busy": "2021-10-31T15:33:31.413976Z",
     "iopub.status.idle": "2021-10-31T15:33:32.040349Z",
     "shell.execute_reply": "2021-10-31T15:33:32.041118Z",
     "shell.execute_reply.started": "2021-10-31T15:24:35.396041Z"
    },
    "papermill": {
     "duration": 0.642026,
     "end_time": "2021-10-31T15:33:32.041304",
     "exception": false,
     "start_time": "2021-10-31T15:33:31.399278",
     "status": "completed"
    },
    "tags": []
   },
   "outputs": [
    {
     "name": "stderr",
     "output_type": "stream",
     "text": [
      "\n",
      "User settings:\n",
      "\n",
      "   KMP_AFFINITY=granularity=fine,verbose,compact,1,0\n",
      "   KMP_BLOCKTIME=0\n",
      "   KMP_SETTINGS=1\n",
      "   KMP_WARNINGS=0\n",
      "\n",
      "Effective settings:\n",
      "\n",
      "   KMP_ABORT_DELAY=0\n",
      "   KMP_ADAPTIVE_LOCK_PROPS='1,1024'\n",
      "   KMP_ALIGN_ALLOC=64\n",
      "   KMP_ALL_THREADPRIVATE=128\n",
      "   KMP_ATOMIC_MODE=2\n",
      "   KMP_BLOCKTIME=0\n",
      "   KMP_CPUINFO_FILE: value is not defined\n",
      "   KMP_DETERMINISTIC_REDUCTION=false\n",
      "   KMP_DEVICE_THREAD_LIMIT=2147483647\n",
      "   KMP_DISP_NUM_BUFFERS=7\n",
      "   KMP_DUPLICATE_LIB_OK=false\n",
      "   KMP_ENABLE_TASK_THROTTLING=true\n",
      "   KMP_FORCE_REDUCTION: value is not defined\n",
      "   KMP_FOREIGN_THREADS_THREADPRIVATE=true\n",
      "   KMP_FORKJOIN_BARRIER='2,2'\n",
      "   KMP_FORKJOIN_BARRIER_PATTERN='hyper,hyper'\n",
      "   KMP_GTID_MODE=3\n",
      "   KMP_HANDLE_SIGNALS=false\n",
      "   KMP_HOT_TEAMS_MAX_LEVEL=1\n",
      "   KMP_HOT_TEAMS_MODE=0\n",
      "   KMP_INIT_AT_FORK=true\n",
      "   KMP_LIBRARY=throughput\n",
      "   KMP_LOCK_KIND=queuing\n",
      "   KMP_MALLOC_POOL_INCR=1M\n",
      "   KMP_NUM_LOCKS_IN_BLOCK=1\n",
      "   KMP_PLAIN_BARRIER='2,2'\n",
      "   KMP_PLAIN_BARRIER_PATTERN='hyper,hyper'\n",
      "   KMP_REDUCTION_BARRIER='1,1'\n",
      "   KMP_REDUCTION_BARRIER_PATTERN='hyper,hyper'\n",
      "   KMP_SCHEDULE='static,balanced;guided,iterative'\n",
      "   KMP_SETTINGS=true\n",
      "   KMP_SPIN_BACKOFF_PARAMS='4096,100'\n",
      "   KMP_STACKOFFSET=64\n",
      "   KMP_STACKPAD=0\n",
      "   KMP_STACKSIZE=8M\n",
      "   KMP_STORAGE_MAP=false\n",
      "   KMP_TASKING=2\n",
      "   KMP_TASKLOOP_MIN_TASKS=0\n",
      "   KMP_TASK_STEALING_CONSTRAINT=1\n",
      "   KMP_TEAMS_THREAD_LIMIT=4\n",
      "   KMP_TOPOLOGY_METHOD=all\n",
      "   KMP_USE_YIELD=1\n",
      "   KMP_VERSION=false\n",
      "   KMP_WARNINGS=false\n",
      "   OMP_AFFINITY_FORMAT='OMP: pid %P tid %i thread %n bound to OS proc set {%A}'\n",
      "   OMP_ALLOCATOR=omp_default_mem_alloc\n",
      "   OMP_CANCELLATION=false\n",
      "   OMP_DEFAULT_DEVICE=0\n",
      "   OMP_DISPLAY_AFFINITY=false\n",
      "   OMP_DISPLAY_ENV=false\n",
      "   OMP_DYNAMIC=false\n",
      "   OMP_MAX_ACTIVE_LEVELS=1\n",
      "   OMP_MAX_TASK_PRIORITY=0\n",
      "   OMP_NESTED: deprecated; max-active-levels-var=1\n",
      "   OMP_NUM_THREADS: value is not defined\n",
      "   OMP_PLACES: value is not defined\n",
      "   OMP_PROC_BIND='intel'\n",
      "   OMP_SCHEDULE='static'\n",
      "   OMP_STACKSIZE=8M\n",
      "   OMP_TARGET_OFFLOAD=DEFAULT\n",
      "   OMP_THREAD_LIMIT=2147483647\n",
      "   OMP_WAIT_POLICY=PASSIVE\n",
      "   KMP_AFFINITY='verbose,warnings,respect,granularity=fine,compact,1,0'\n",
      "\n",
      "2021-10-31 15:33:31.469794: I tensorflow/core/common_runtime/process_util.cc:146] Creating new thread pool with default inter op setting: 2. Tune using inter_op_parallelism_threads for best performance.\n"
     ]
    },
    {
     "name": "stdout",
     "output_type": "stream",
     "text": [
      "Model: \"sequential\"\n",
      "_________________________________________________________________\n",
      "Layer (type)                 Output Shape              Param #   \n",
      "=================================================================\n",
      "conv2d (Conv2D)              (None, 32, 32, 32)        896       \n",
      "_________________________________________________________________\n",
      "conv2d_1 (Conv2D)            (None, 32, 32, 32)        9248      \n",
      "_________________________________________________________________\n",
      "max_pooling2d (MaxPooling2D) (None, 16, 16, 32)        0         \n",
      "_________________________________________________________________\n",
      "dropout (Dropout)            (None, 16, 16, 32)        0         \n",
      "_________________________________________________________________\n",
      "batch_normalization (BatchNo (None, 16, 16, 32)        128       \n",
      "_________________________________________________________________\n",
      "conv2d_2 (Conv2D)            (None, 16, 16, 64)        18496     \n",
      "_________________________________________________________________\n",
      "conv2d_3 (Conv2D)            (None, 16, 16, 64)        36928     \n",
      "_________________________________________________________________\n",
      "max_pooling2d_1 (MaxPooling2 (None, 8, 8, 64)          0         \n",
      "_________________________________________________________________\n",
      "dropout_1 (Dropout)          (None, 8, 8, 64)          0         \n",
      "_________________________________________________________________\n",
      "batch_normalization_1 (Batch (None, 8, 8, 64)          256       \n",
      "_________________________________________________________________\n",
      "conv2d_4 (Conv2D)            (None, 8, 8, 128)         73856     \n",
      "_________________________________________________________________\n",
      "conv2d_5 (Conv2D)            (None, 8, 8, 128)         147584    \n",
      "_________________________________________________________________\n",
      "max_pooling2d_2 (MaxPooling2 (None, 4, 4, 128)         0         \n",
      "_________________________________________________________________\n",
      "dropout_2 (Dropout)          (None, 4, 4, 128)         0         \n",
      "_________________________________________________________________\n",
      "batch_normalization_2 (Batch (None, 4, 4, 128)         512       \n",
      "_________________________________________________________________\n",
      "flatten (Flatten)            (None, 2048)              0         \n",
      "_________________________________________________________________\n",
      "dense (Dense)                (None, 128)               262272    \n",
      "_________________________________________________________________\n",
      "dropout_3 (Dropout)          (None, 128)               0         \n",
      "_________________________________________________________________\n",
      "dense_1 (Dense)              (None, 64)                8256      \n",
      "_________________________________________________________________\n",
      "dropout_4 (Dropout)          (None, 64)                0         \n",
      "_________________________________________________________________\n",
      "dense_2 (Dense)              (None, 32)                2080      \n",
      "_________________________________________________________________\n",
      "dropout_5 (Dropout)          (None, 32)                0         \n",
      "_________________________________________________________________\n",
      "batch_normalization_3 (Batch (None, 32)                128       \n",
      "_________________________________________________________________\n",
      "dense_3 (Dense)              (None, 10)                330       \n",
      "=================================================================\n",
      "Total params: 560,970\n",
      "Trainable params: 560,458\n",
      "Non-trainable params: 512\n",
      "_________________________________________________________________\n"
     ]
    }
   ],
   "source": [
    "cnn = keras.models.load_model('../input/cifar10-model/cifar10_model_v01.h5')\n",
    "cnn.summary()"
   ]
  },
  {
   "cell_type": "markdown",
   "id": "0bccff97",
   "metadata": {
    "papermill": {
     "duration": 0.012121,
     "end_time": "2021-10-31T15:33:32.066181",
     "exception": false,
     "start_time": "2021-10-31T15:33:32.054060",
     "status": "completed"
    },
    "tags": []
   },
   "source": [
    "#### Test Predictions"
   ]
  },
  {
   "cell_type": "code",
   "execution_count": 7,
   "id": "9f30f328",
   "metadata": {
    "execution": {
     "iopub.execute_input": "2021-10-31T15:33:32.094271Z",
     "iopub.status.busy": "2021-10-31T15:33:32.093375Z",
     "iopub.status.idle": "2021-10-31T15:34:12.516358Z",
     "shell.execute_reply": "2021-10-31T15:34:12.516910Z",
     "shell.execute_reply.started": "2021-10-31T15:26:07.205717Z"
    },
    "papermill": {
     "duration": 40.438617,
     "end_time": "2021-10-31T15:34:12.517101",
     "exception": false,
     "start_time": "2021-10-31T15:33:32.078484",
     "status": "completed"
    },
    "tags": []
   },
   "outputs": [
    {
     "name": "stderr",
     "output_type": "stream",
     "text": [
      "2021-10-31 15:33:32.508857: I tensorflow/compiler/mlir/mlir_graph_optimization_pass.cc:185] None of the MLIR Optimization Passes are enabled (registered 2)\n"
     ]
    },
    {
     "name": "stdout",
     "output_type": "stream",
     "text": [
      "(10000, 10)\n"
     ]
    }
   ],
   "source": [
    "test_prob = cnn.predict(test_loader)\n",
    "print(test_prob.shape)"
   ]
  },
  {
   "cell_type": "code",
   "execution_count": 8,
   "id": "a61fa6d7",
   "metadata": {
    "execution": {
     "iopub.execute_input": "2021-10-31T15:34:12.549261Z",
     "iopub.status.busy": "2021-10-31T15:34:12.548559Z",
     "iopub.status.idle": "2021-10-31T15:34:12.552013Z",
     "shell.execute_reply": "2021-10-31T15:34:12.551426Z",
     "shell.execute_reply.started": "2021-10-31T15:26:47.250061Z"
    },
    "papermill": {
     "duration": 0.021946,
     "end_time": "2021-10-31T15:34:12.552144",
     "exception": false,
     "start_time": "2021-10-31T15:34:12.530198",
     "status": "completed"
    },
    "tags": []
   },
   "outputs": [
    {
     "name": "stdout",
     "output_type": "stream",
     "text": [
      "[[0.   0.   0.   0.   0.02 0.01 0.   0.97 0.   0.  ]\n",
      " [1.   0.   0.   0.   0.   0.   0.   0.   0.   0.  ]\n",
      " [0.   0.   0.   0.   0.   0.   0.   1.   0.   0.  ]\n",
      " [0.   0.04 0.   0.   0.   0.   0.   0.   0.   0.95]\n",
      " [0.   0.   0.   0.   0.   0.   0.   0.   1.   0.  ]\n",
      " [0.   0.   0.   0.   0.   0.   0.99 0.   0.   0.  ]\n",
      " [0.   0.   0.   0.   0.   0.   1.   0.   0.   0.  ]\n",
      " [0.   0.   0.08 0.08 0.   0.83 0.01 0.01 0.   0.  ]\n",
      " [0.   0.   1.   0.   0.   0.   0.   0.   0.   0.  ]\n",
      " [0.   0.   0.03 0.31 0.23 0.3  0.03 0.1  0.   0.  ]]\n"
     ]
    }
   ],
   "source": [
    "print(test_prob[:10,].round(2))"
   ]
  },
  {
   "cell_type": "markdown",
   "id": "db469daa",
   "metadata": {
    "papermill": {
     "duration": 0.012876,
     "end_time": "2021-10-31T15:34:12.578939",
     "exception": false,
     "start_time": "2021-10-31T15:34:12.566063",
     "status": "completed"
    },
    "tags": []
   },
   "source": [
    "#### Prepare Submission"
   ]
  },
  {
   "cell_type": "code",
   "execution_count": 9,
   "id": "37a56d21",
   "metadata": {
    "execution": {
     "iopub.execute_input": "2021-10-31T15:34:12.609363Z",
     "iopub.status.busy": "2021-10-31T15:34:12.608779Z",
     "iopub.status.idle": "2021-10-31T15:34:12.623588Z",
     "shell.execute_reply": "2021-10-31T15:34:12.622891Z",
     "shell.execute_reply.started": "2021-10-31T15:27:39.926105Z"
    },
    "papermill": {
     "duration": 0.031761,
     "end_time": "2021-10-31T15:34:12.623727",
     "exception": false,
     "start_time": "2021-10-31T15:34:12.591966",
     "status": "completed"
    },
    "tags": []
   },
   "outputs": [
    {
     "data": {
      "text/html": [
       "<div>\n",
       "<style scoped>\n",
       "    .dataframe tbody tr th:only-of-type {\n",
       "        vertical-align: middle;\n",
       "    }\n",
       "\n",
       "    .dataframe tbody tr th {\n",
       "        vertical-align: top;\n",
       "    }\n",
       "\n",
       "    .dataframe thead th {\n",
       "        text-align: right;\n",
       "    }\n",
       "</style>\n",
       "<table border=\"1\" class=\"dataframe\">\n",
       "  <thead>\n",
       "    <tr style=\"text-align: right;\">\n",
       "      <th></th>\n",
       "      <th>filename</th>\n",
       "      <th>label</th>\n",
       "    </tr>\n",
       "  </thead>\n",
       "  <tbody>\n",
       "    <tr>\n",
       "      <th>0</th>\n",
       "      <td>test_00001.png</td>\n",
       "      <td>0</td>\n",
       "    </tr>\n",
       "    <tr>\n",
       "      <th>1</th>\n",
       "      <td>test_00002.png</td>\n",
       "      <td>0</td>\n",
       "    </tr>\n",
       "    <tr>\n",
       "      <th>2</th>\n",
       "      <td>test_00003.png</td>\n",
       "      <td>0</td>\n",
       "    </tr>\n",
       "    <tr>\n",
       "      <th>3</th>\n",
       "      <td>test_00004.png</td>\n",
       "      <td>0</td>\n",
       "    </tr>\n",
       "    <tr>\n",
       "      <th>4</th>\n",
       "      <td>test_00005.png</td>\n",
       "      <td>0</td>\n",
       "    </tr>\n",
       "  </tbody>\n",
       "</table>\n",
       "</div>"
      ],
      "text/plain": [
       "         filename  label\n",
       "0  test_00001.png      0\n",
       "1  test_00002.png      0\n",
       "2  test_00003.png      0\n",
       "3  test_00004.png      0\n",
       "4  test_00005.png      0"
      ]
     },
     "execution_count": 9,
     "metadata": {},
     "output_type": "execute_result"
    }
   ],
   "source": [
    "submission = pd.read_csv('../input/cifar10-mu/sample_submission.csv')\n",
    "submission.head()"
   ]
  },
  {
   "cell_type": "code",
   "execution_count": 10,
   "id": "d7270d10",
   "metadata": {
    "execution": {
     "iopub.execute_input": "2021-10-31T15:34:12.655557Z",
     "iopub.status.busy": "2021-10-31T15:34:12.654785Z",
     "iopub.status.idle": "2021-10-31T15:34:12.658420Z",
     "shell.execute_reply": "2021-10-31T15:34:12.657914Z",
     "shell.execute_reply.started": "2021-10-31T15:28:28.939182Z"
    },
    "papermill": {
     "duration": 0.021316,
     "end_time": "2021-10-31T15:34:12.658574",
     "exception": false,
     "start_time": "2021-10-31T15:34:12.637258",
     "status": "completed"
    },
    "tags": []
   },
   "outputs": [
    {
     "name": "stdout",
     "output_type": "stream",
     "text": [
      "[7 0 7 9 8 6 6 5 2 3]\n"
     ]
    }
   ],
   "source": [
    "test_pred = np.argmax(test_prob, axis = 1)\n",
    "print(test_pred[:10])"
   ]
  },
  {
   "cell_type": "code",
   "execution_count": 11,
   "id": "4c1ebf07",
   "metadata": {
    "execution": {
     "iopub.execute_input": "2021-10-31T15:34:12.689652Z",
     "iopub.status.busy": "2021-10-31T15:34:12.689000Z",
     "iopub.status.idle": "2021-10-31T15:34:12.697449Z",
     "shell.execute_reply": "2021-10-31T15:34:12.697876Z",
     "shell.execute_reply.started": "2021-10-31T15:28:56.985723Z"
    },
    "papermill": {
     "duration": 0.025414,
     "end_time": "2021-10-31T15:34:12.698037",
     "exception": false,
     "start_time": "2021-10-31T15:34:12.672623",
     "status": "completed"
    },
    "tags": []
   },
   "outputs": [
    {
     "data": {
      "text/html": [
       "<div>\n",
       "<style scoped>\n",
       "    .dataframe tbody tr th:only-of-type {\n",
       "        vertical-align: middle;\n",
       "    }\n",
       "\n",
       "    .dataframe tbody tr th {\n",
       "        vertical-align: top;\n",
       "    }\n",
       "\n",
       "    .dataframe thead th {\n",
       "        text-align: right;\n",
       "    }\n",
       "</style>\n",
       "<table border=\"1\" class=\"dataframe\">\n",
       "  <thead>\n",
       "    <tr style=\"text-align: right;\">\n",
       "      <th></th>\n",
       "      <th>filename</th>\n",
       "      <th>label</th>\n",
       "    </tr>\n",
       "  </thead>\n",
       "  <tbody>\n",
       "    <tr>\n",
       "      <th>0</th>\n",
       "      <td>test_00001.png</td>\n",
       "      <td>7</td>\n",
       "    </tr>\n",
       "    <tr>\n",
       "      <th>1</th>\n",
       "      <td>test_00002.png</td>\n",
       "      <td>0</td>\n",
       "    </tr>\n",
       "    <tr>\n",
       "      <th>2</th>\n",
       "      <td>test_00003.png</td>\n",
       "      <td>7</td>\n",
       "    </tr>\n",
       "    <tr>\n",
       "      <th>3</th>\n",
       "      <td>test_00004.png</td>\n",
       "      <td>9</td>\n",
       "    </tr>\n",
       "    <tr>\n",
       "      <th>4</th>\n",
       "      <td>test_00005.png</td>\n",
       "      <td>8</td>\n",
       "    </tr>\n",
       "  </tbody>\n",
       "</table>\n",
       "</div>"
      ],
      "text/plain": [
       "         filename  label\n",
       "0  test_00001.png      7\n",
       "1  test_00002.png      0\n",
       "2  test_00003.png      7\n",
       "3  test_00004.png      9\n",
       "4  test_00005.png      8"
      ]
     },
     "execution_count": 11,
     "metadata": {},
     "output_type": "execute_result"
    }
   ],
   "source": [
    "submission.label = test_pred\n",
    "submission.head()"
   ]
  },
  {
   "cell_type": "code",
   "execution_count": 12,
   "id": "0c60411a",
   "metadata": {
    "execution": {
     "iopub.execute_input": "2021-10-31T15:34:12.728851Z",
     "iopub.status.busy": "2021-10-31T15:34:12.728274Z",
     "iopub.status.idle": "2021-10-31T15:34:12.747850Z",
     "shell.execute_reply": "2021-10-31T15:34:12.748281Z",
     "shell.execute_reply.started": "2021-10-31T15:32:41.052288Z"
    },
    "papermill": {
     "duration": 0.03664,
     "end_time": "2021-10-31T15:34:12.748468",
     "exception": false,
     "start_time": "2021-10-31T15:34:12.711828",
     "status": "completed"
    },
    "tags": []
   },
   "outputs": [],
   "source": [
    "submission.to_csv('submission.csv', header = True, index = False)"
   ]
  },
  {
   "cell_type": "code",
   "execution_count": null,
   "id": "1bd89273",
   "metadata": {
    "papermill": {
     "duration": 0.013546,
     "end_time": "2021-10-31T15:34:12.776109",
     "exception": false,
     "start_time": "2021-10-31T15:34:12.762563",
     "status": "completed"
    },
    "tags": []
   },
   "outputs": [],
   "source": []
  }
 ],
 "metadata": {
  "kernelspec": {
   "display_name": "Python 3",
   "language": "python",
   "name": "python3"
  },
  "language_info": {
   "codemirror_mode": {
    "name": "ipython",
    "version": 3
   },
   "file_extension": ".py",
   "mimetype": "text/x-python",
   "name": "python",
   "nbconvert_exporter": "python",
   "pygments_lexer": "ipython3",
   "version": "3.7.10"
  },
  "papermill": {
   "default_parameters": {},
   "duration": 73.504511,
   "end_time": "2021-10-31T15:34:15.469676",
   "environment_variables": {},
   "exception": null,
   "input_path": "__notebook__.ipynb",
   "output_path": "__notebook__.ipynb",
   "parameters": {},
   "start_time": "2021-10-31T15:33:01.965165",
   "version": "2.3.3"
  }
 },
 "nbformat": 4,
 "nbformat_minor": 5
}
